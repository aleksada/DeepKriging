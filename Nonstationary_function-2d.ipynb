{
 "cells": [
  {
   "cell_type": "code",
   "execution_count": 2,
   "metadata": {},
   "outputs": [],
   "source": [
    "import pandas as pd\n",
    "import tensorflow as tf\n",
    "from keras import optimizers\n",
    "from keras.models import Sequential\n",
    "from keras.layers import Dense, Dropout, BatchNormalization\n",
    "from keras.wrappers.scikit_learn import KerasRegressor\n",
    "#from sklearn.gaussian_process import GaussianProcess\n",
    "from sklearn.model_selection import cross_val_score\n",
    "from sklearn.model_selection import KFold\n",
    "from sklearn.preprocessing import StandardScaler\n",
    "from sklearn.pipeline import Pipeline\n",
    "import numpy as np\n",
    "# Library for Gaussian process\n",
    "import GPy\n",
    "##Library for visualization\n",
    "import matplotlib.pyplot as plt\n",
    "%matplotlib inline\n",
    "%config InlineBackend.figure_format = 'svg'\n",
    "import matplotlib;matplotlib.rcParams['figure.figsize'] = (8,6)\n",
    "import pylab "
   ]
  },
  {
   "cell_type": "code",
   "execution_count": 3,
   "metadata": {},
   "outputs": [],
   "source": [
    "n = 30 \n",
    "N = int(n**2) ## sample size\n",
    "M = 1 ## Number of replicate\n",
    "coord1 = np.linspace(0,1,n)\n",
    "coord2 = np.linspace(0,1,n)\n",
    "P = 1\n",
    "X = np.array([np.ones(N)]).T\n",
    "s1,s2 = np.meshgrid(coord1,coord2)\n",
    "s = np.vstack((s1.flatten(),s2.flatten())).T\n",
    "y = np.sin(30*((s[:,0]+s[:,1])/2-0.9)**4)*np.cos(2*((s[:,0]+s[:,1])/2-0.9))+((s[:,0]+s[:,1])/2-0.9)/2"
   ]
  },
  {
   "cell_type": "code",
   "execution_count": 4,
   "metadata": {},
   "outputs": [
    {
     "data": {
      "image/svg+xml": "<?xml version=\"1.0\" encoding=\"utf-8\" standalone=\"no\"?>\n<!DOCTYPE svg PUBLIC \"-//W3C//DTD SVG 1.1//EN\"\n  \"http://www.w3.org/Graphics/SVG/1.1/DTD/svg11.dtd\">\n<!-- Created with matplotlib (https://matplotlib.org/) -->\n<svg height=\"386.034375pt\" version=\"1.1\" viewBox=\"0 0 447.052062 386.034375\" width=\"447.052062pt\" xmlns=\"http://www.w3.org/2000/svg\" xmlns:xlink=\"http://www.w3.org/1999/xlink\">\n <metadata>\n  <rdf:RDF xmlns:cc=\"http://creativecommons.org/ns#\" xmlns:dc=\"http://purl.org/dc/elements/1.1/\" xmlns:rdf=\"http://www.w3.org/1999/02/22-rdf-syntax-ns#\">\n   <cc:Work>\n    <dc:type rdf:resource=\"http://purl.org/dc/dcmitype/StillImage\"/>\n    <dc:date>2022-01-15T17:42:21.764298</dc:date>\n    <dc:format>image/svg+xml</dc:format>\n    <dc:creator>\n     <cc:Agent>\n      <dc:title>Matplotlib v3.3.4, https://matplotlib.org/</dc:title>\n     </cc:Agent>\n    </dc:creator>\n   </cc:Work>\n  </rdf:RDF>\n </metadata>\n <defs>\n  <style type=\"text/css\">*{stroke-linecap:butt;stroke-linejoin:round;}</style>\n </defs>\n <g id=\"figure_1\">\n  <g id=\"patch_1\">\n   <path d=\"M 0 386.034375 \nL 447.052062 386.034375 \nL 447.052062 0 \nL 0 0 \nz\n\" style=\"fill:none;\"/>\n  </g>\n  <g id=\"axes_1\">\n   <g id=\"patch_2\">\n    <path d=\"M 43.78125 348.478125 \nL 369.94125 348.478125 \nL 369.94125 22.318125 \nL 43.78125 22.318125 \nz\n\" style=\"fill:#ffffff;\"/>\n   </g>\n   <g clip-path=\"url(#p156fd45140)\">\n    <image height=\"327\" id=\"imagebc7572cba3\" transform=\"scale(1 -1)translate(0 -327)\" width=\"327\" x=\"43.78125\" xlink:href=\"data:image/png;base64,\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\" y=\"-21.478125\"/>\n   </g>\n   <g id=\"matplotlib.axis_1\">\n    <g id=\"xtick_1\">\n     <g id=\"line2d_1\">\n      <defs>\n       <path d=\"M 0 0 \nL 0 3.5 \n\" id=\"md72a233778\" style=\"stroke:#000000;stroke-width:0.8;\"/>\n      </defs>\n      <g>\n       <use style=\"stroke:#000000;stroke-width:0.8;\" x=\"43.78125\" xlink:href=\"#md72a233778\" y=\"348.478125\"/>\n      </g>\n     </g>\n     <g id=\"text_1\">\n      <!-- 0.0 -->\n      <g transform=\"translate(35.829688 363.076562)scale(0.1 -0.1)\">\n       <defs>\n        <path d=\"M 31.78125 66.40625 \nQ 24.171875 66.40625 20.328125 58.90625 \nQ 16.5 51.421875 16.5 36.375 \nQ 16.5 21.390625 20.328125 13.890625 \nQ 24.171875 6.390625 31.78125 6.390625 \nQ 39.453125 6.390625 43.28125 13.890625 \nQ 47.125 21.390625 47.125 36.375 \nQ 47.125 51.421875 43.28125 58.90625 \nQ 39.453125 66.40625 31.78125 66.40625 \nz\nM 31.78125 74.21875 \nQ 44.046875 74.21875 50.515625 64.515625 \nQ 56.984375 54.828125 56.984375 36.375 \nQ 56.984375 17.96875 50.515625 8.265625 \nQ 44.046875 -1.421875 31.78125 -1.421875 \nQ 19.53125 -1.421875 13.0625 8.265625 \nQ 6.59375 17.96875 6.59375 36.375 \nQ 6.59375 54.828125 13.0625 64.515625 \nQ 19.53125 74.21875 31.78125 74.21875 \nz\n\" id=\"DejaVuSans-48\"/>\n        <path d=\"M 10.6875 12.40625 \nL 21 12.40625 \nL 21 0 \nL 10.6875 0 \nz\n\" id=\"DejaVuSans-46\"/>\n       </defs>\n       <use xlink:href=\"#DejaVuSans-48\"/>\n       <use x=\"63.623047\" xlink:href=\"#DejaVuSans-46\"/>\n       <use x=\"95.410156\" xlink:href=\"#DejaVuSans-48\"/>\n      </g>\n     </g>\n    </g>\n    <g id=\"xtick_2\">\n     <g id=\"line2d_2\">\n      <g>\n       <use style=\"stroke:#000000;stroke-width:0.8;\" x=\"109.01325\" xlink:href=\"#md72a233778\" y=\"348.478125\"/>\n      </g>\n     </g>\n     <g id=\"text_2\">\n      <!-- 0.2 -->\n      <g transform=\"translate(101.061688 363.076562)scale(0.1 -0.1)\">\n       <defs>\n        <path d=\"M 19.1875 8.296875 \nL 53.609375 8.296875 \nL 53.609375 0 \nL 7.328125 0 \nL 7.328125 8.296875 \nQ 12.9375 14.109375 22.625 23.890625 \nQ 32.328125 33.6875 34.8125 36.53125 \nQ 39.546875 41.84375 41.421875 45.53125 \nQ 43.3125 49.21875 43.3125 52.78125 \nQ 43.3125 58.59375 39.234375 62.25 \nQ 35.15625 65.921875 28.609375 65.921875 \nQ 23.96875 65.921875 18.8125 64.3125 \nQ 13.671875 62.703125 7.8125 59.421875 \nL 7.8125 69.390625 \nQ 13.765625 71.78125 18.9375 73 \nQ 24.125 74.21875 28.421875 74.21875 \nQ 39.75 74.21875 46.484375 68.546875 \nQ 53.21875 62.890625 53.21875 53.421875 \nQ 53.21875 48.921875 51.53125 44.890625 \nQ 49.859375 40.875 45.40625 35.40625 \nQ 44.1875 33.984375 37.640625 27.21875 \nQ 31.109375 20.453125 19.1875 8.296875 \nz\n\" id=\"DejaVuSans-50\"/>\n       </defs>\n       <use xlink:href=\"#DejaVuSans-48\"/>\n       <use x=\"63.623047\" xlink:href=\"#DejaVuSans-46\"/>\n       <use x=\"95.410156\" xlink:href=\"#DejaVuSans-50\"/>\n      </g>\n     </g>\n    </g>\n    <g id=\"xtick_3\">\n     <g id=\"line2d_3\">\n      <g>\n       <use style=\"stroke:#000000;stroke-width:0.8;\" x=\"174.24525\" xlink:href=\"#md72a233778\" y=\"348.478125\"/>\n      </g>\n     </g>\n     <g id=\"text_3\">\n      <!-- 0.4 -->\n      <g transform=\"translate(166.293688 363.076562)scale(0.1 -0.1)\">\n       <defs>\n        <path d=\"M 37.796875 64.3125 \nL 12.890625 25.390625 \nL 37.796875 25.390625 \nz\nM 35.203125 72.90625 \nL 47.609375 72.90625 \nL 47.609375 25.390625 \nL 58.015625 25.390625 \nL 58.015625 17.1875 \nL 47.609375 17.1875 \nL 47.609375 0 \nL 37.796875 0 \nL 37.796875 17.1875 \nL 4.890625 17.1875 \nL 4.890625 26.703125 \nz\n\" id=\"DejaVuSans-52\"/>\n       </defs>\n       <use xlink:href=\"#DejaVuSans-48\"/>\n       <use x=\"63.623047\" xlink:href=\"#DejaVuSans-46\"/>\n       <use x=\"95.410156\" xlink:href=\"#DejaVuSans-52\"/>\n      </g>\n     </g>\n    </g>\n    <g id=\"xtick_4\">\n     <g id=\"line2d_4\">\n      <g>\n       <use style=\"stroke:#000000;stroke-width:0.8;\" x=\"239.47725\" xlink:href=\"#md72a233778\" y=\"348.478125\"/>\n      </g>\n     </g>\n     <g id=\"text_4\">\n      <!-- 0.6 -->\n      <g transform=\"translate(231.525688 363.076562)scale(0.1 -0.1)\">\n       <defs>\n        <path d=\"M 33.015625 40.375 \nQ 26.375 40.375 22.484375 35.828125 \nQ 18.609375 31.296875 18.609375 23.390625 \nQ 18.609375 15.53125 22.484375 10.953125 \nQ 26.375 6.390625 33.015625 6.390625 \nQ 39.65625 6.390625 43.53125 10.953125 \nQ 47.40625 15.53125 47.40625 23.390625 \nQ 47.40625 31.296875 43.53125 35.828125 \nQ 39.65625 40.375 33.015625 40.375 \nz\nM 52.59375 71.296875 \nL 52.59375 62.3125 \nQ 48.875 64.0625 45.09375 64.984375 \nQ 41.3125 65.921875 37.59375 65.921875 \nQ 27.828125 65.921875 22.671875 59.328125 \nQ 17.53125 52.734375 16.796875 39.40625 \nQ 19.671875 43.65625 24.015625 45.921875 \nQ 28.375 48.1875 33.59375 48.1875 \nQ 44.578125 48.1875 50.953125 41.515625 \nQ 57.328125 34.859375 57.328125 23.390625 \nQ 57.328125 12.15625 50.6875 5.359375 \nQ 44.046875 -1.421875 33.015625 -1.421875 \nQ 20.359375 -1.421875 13.671875 8.265625 \nQ 6.984375 17.96875 6.984375 36.375 \nQ 6.984375 53.65625 15.1875 63.9375 \nQ 23.390625 74.21875 37.203125 74.21875 \nQ 40.921875 74.21875 44.703125 73.484375 \nQ 48.484375 72.75 52.59375 71.296875 \nz\n\" id=\"DejaVuSans-54\"/>\n       </defs>\n       <use xlink:href=\"#DejaVuSans-48\"/>\n       <use x=\"63.623047\" xlink:href=\"#DejaVuSans-46\"/>\n       <use x=\"95.410156\" xlink:href=\"#DejaVuSans-54\"/>\n      </g>\n     </g>\n    </g>\n    <g id=\"xtick_5\">\n     <g id=\"line2d_5\">\n      <g>\n       <use style=\"stroke:#000000;stroke-width:0.8;\" x=\"304.70925\" xlink:href=\"#md72a233778\" y=\"348.478125\"/>\n      </g>\n     </g>\n     <g id=\"text_5\">\n      <!-- 0.8 -->\n      <g transform=\"translate(296.757688 363.076562)scale(0.1 -0.1)\">\n       <defs>\n        <path d=\"M 31.78125 34.625 \nQ 24.75 34.625 20.71875 30.859375 \nQ 16.703125 27.09375 16.703125 20.515625 \nQ 16.703125 13.921875 20.71875 10.15625 \nQ 24.75 6.390625 31.78125 6.390625 \nQ 38.8125 6.390625 42.859375 10.171875 \nQ 46.921875 13.96875 46.921875 20.515625 \nQ 46.921875 27.09375 42.890625 30.859375 \nQ 38.875 34.625 31.78125 34.625 \nz\nM 21.921875 38.8125 \nQ 15.578125 40.375 12.03125 44.71875 \nQ 8.5 49.078125 8.5 55.328125 \nQ 8.5 64.0625 14.71875 69.140625 \nQ 20.953125 74.21875 31.78125 74.21875 \nQ 42.671875 74.21875 48.875 69.140625 \nQ 55.078125 64.0625 55.078125 55.328125 \nQ 55.078125 49.078125 51.53125 44.71875 \nQ 48 40.375 41.703125 38.8125 \nQ 48.828125 37.15625 52.796875 32.3125 \nQ 56.78125 27.484375 56.78125 20.515625 \nQ 56.78125 9.90625 50.3125 4.234375 \nQ 43.84375 -1.421875 31.78125 -1.421875 \nQ 19.734375 -1.421875 13.25 4.234375 \nQ 6.78125 9.90625 6.78125 20.515625 \nQ 6.78125 27.484375 10.78125 32.3125 \nQ 14.796875 37.15625 21.921875 38.8125 \nz\nM 18.3125 54.390625 \nQ 18.3125 48.734375 21.84375 45.5625 \nQ 25.390625 42.390625 31.78125 42.390625 \nQ 38.140625 42.390625 41.71875 45.5625 \nQ 45.3125 48.734375 45.3125 54.390625 \nQ 45.3125 60.0625 41.71875 63.234375 \nQ 38.140625 66.40625 31.78125 66.40625 \nQ 25.390625 66.40625 21.84375 63.234375 \nQ 18.3125 60.0625 18.3125 54.390625 \nz\n\" id=\"DejaVuSans-56\"/>\n       </defs>\n       <use xlink:href=\"#DejaVuSans-48\"/>\n       <use x=\"63.623047\" xlink:href=\"#DejaVuSans-46\"/>\n       <use x=\"95.410156\" xlink:href=\"#DejaVuSans-56\"/>\n      </g>\n     </g>\n    </g>\n    <g id=\"xtick_6\">\n     <g id=\"line2d_6\">\n      <g>\n       <use style=\"stroke:#000000;stroke-width:0.8;\" x=\"369.94125\" xlink:href=\"#md72a233778\" y=\"348.478125\"/>\n      </g>\n     </g>\n     <g id=\"text_6\">\n      <!-- 1.0 -->\n      <g transform=\"translate(361.989688 363.076562)scale(0.1 -0.1)\">\n       <defs>\n        <path d=\"M 12.40625 8.296875 \nL 28.515625 8.296875 \nL 28.515625 63.921875 \nL 10.984375 60.40625 \nL 10.984375 69.390625 \nL 28.421875 72.90625 \nL 38.28125 72.90625 \nL 38.28125 8.296875 \nL 54.390625 8.296875 \nL 54.390625 0 \nL 12.40625 0 \nz\n\" id=\"DejaVuSans-49\"/>\n       </defs>\n       <use xlink:href=\"#DejaVuSans-49\"/>\n       <use x=\"63.623047\" xlink:href=\"#DejaVuSans-46\"/>\n       <use x=\"95.410156\" xlink:href=\"#DejaVuSans-48\"/>\n      </g>\n     </g>\n    </g>\n    <g id=\"text_7\">\n     <!-- $s_x$ -->\n     <g transform=\"translate(202.01125 376.754687)scale(0.1 -0.1)\">\n      <defs>\n       <path d=\"M 50 53.078125 \nL 48.296875 44.578125 \nQ 44.734375 46.53125 40.765625 47.5 \nQ 36.8125 48.484375 32.625 48.484375 \nQ 25.53125 48.484375 21.453125 46.0625 \nQ 17.390625 43.65625 17.390625 39.5 \nQ 17.390625 34.671875 26.859375 32.078125 \nQ 27.59375 31.890625 27.9375 31.78125 \nL 30.8125 30.90625 \nQ 39.796875 28.421875 42.796875 25.6875 \nQ 45.796875 22.953125 45.796875 18.21875 \nQ 45.796875 9.515625 38.890625 4.046875 \nQ 31.984375 -1.421875 20.796875 -1.421875 \nQ 16.453125 -1.421875 11.671875 -0.578125 \nQ 6.890625 0.25 1.125 2 \nL 2.875 11.28125 \nQ 7.8125 8.734375 12.59375 7.421875 \nQ 17.390625 6.109375 21.78125 6.109375 \nQ 28.375 6.109375 32.5 8.9375 \nQ 36.625 11.765625 36.625 16.109375 \nQ 36.625 20.796875 25.78125 23.6875 \nL 24.859375 23.921875 \nL 21.78125 24.703125 \nQ 14.9375 26.515625 11.765625 29.46875 \nQ 8.59375 32.421875 8.59375 37.015625 \nQ 8.59375 45.75 15.15625 50.875 \nQ 21.734375 56 33.015625 56 \nQ 37.453125 56 41.671875 55.265625 \nQ 45.90625 54.546875 50 53.078125 \nz\n\" id=\"DejaVuSans-Oblique-115\"/>\n       <path d=\"M 60.015625 54.6875 \nL 34.90625 27.875 \nL 50.296875 0 \nL 39.984375 0 \nL 28.421875 21.6875 \nL 8.296875 0 \nL -2.59375 0 \nL 24.3125 28.8125 \nL 10.015625 54.6875 \nL 20.3125 54.6875 \nL 30.8125 34.90625 \nL 49.125 54.6875 \nz\n\" id=\"DejaVuSans-Oblique-120\"/>\n      </defs>\n      <use xlink:href=\"#DejaVuSans-Oblique-115\"/>\n      <use transform=\"translate(52.099609 -16.40625)scale(0.7)\" xlink:href=\"#DejaVuSans-Oblique-120\"/>\n     </g>\n    </g>\n   </g>\n   <g id=\"matplotlib.axis_2\">\n    <g id=\"ytick_1\">\n     <g id=\"line2d_7\">\n      <defs>\n       <path d=\"M 0 0 \nL -3.5 0 \n\" id=\"m1af7749095\" style=\"stroke:#000000;stroke-width:0.8;\"/>\n      </defs>\n      <g>\n       <use style=\"stroke:#000000;stroke-width:0.8;\" x=\"43.78125\" xlink:href=\"#m1af7749095\" y=\"348.478125\"/>\n      </g>\n     </g>\n     <g id=\"text_8\">\n      <!-- 0.0 -->\n      <g transform=\"translate(20.878125 352.277344)scale(0.1 -0.1)\">\n       <use xlink:href=\"#DejaVuSans-48\"/>\n       <use x=\"63.623047\" xlink:href=\"#DejaVuSans-46\"/>\n       <use x=\"95.410156\" xlink:href=\"#DejaVuSans-48\"/>\n      </g>\n     </g>\n    </g>\n    <g id=\"ytick_2\">\n     <g id=\"line2d_8\">\n      <g>\n       <use style=\"stroke:#000000;stroke-width:0.8;\" x=\"43.78125\" xlink:href=\"#m1af7749095\" y=\"283.246125\"/>\n      </g>\n     </g>\n     <g id=\"text_9\">\n      <!-- 0.2 -->\n      <g transform=\"translate(20.878125 287.045344)scale(0.1 -0.1)\">\n       <use xlink:href=\"#DejaVuSans-48\"/>\n       <use x=\"63.623047\" xlink:href=\"#DejaVuSans-46\"/>\n       <use x=\"95.410156\" xlink:href=\"#DejaVuSans-50\"/>\n      </g>\n     </g>\n    </g>\n    <g id=\"ytick_3\">\n     <g id=\"line2d_9\">\n      <g>\n       <use style=\"stroke:#000000;stroke-width:0.8;\" x=\"43.78125\" xlink:href=\"#m1af7749095\" y=\"218.014125\"/>\n      </g>\n     </g>\n     <g id=\"text_10\">\n      <!-- 0.4 -->\n      <g transform=\"translate(20.878125 221.813344)scale(0.1 -0.1)\">\n       <use xlink:href=\"#DejaVuSans-48\"/>\n       <use x=\"63.623047\" xlink:href=\"#DejaVuSans-46\"/>\n       <use x=\"95.410156\" xlink:href=\"#DejaVuSans-52\"/>\n      </g>\n     </g>\n    </g>\n    <g id=\"ytick_4\">\n     <g id=\"line2d_10\">\n      <g>\n       <use style=\"stroke:#000000;stroke-width:0.8;\" x=\"43.78125\" xlink:href=\"#m1af7749095\" y=\"152.782125\"/>\n      </g>\n     </g>\n     <g id=\"text_11\">\n      <!-- 0.6 -->\n      <g transform=\"translate(20.878125 156.581344)scale(0.1 -0.1)\">\n       <use xlink:href=\"#DejaVuSans-48\"/>\n       <use x=\"63.623047\" xlink:href=\"#DejaVuSans-46\"/>\n       <use x=\"95.410156\" xlink:href=\"#DejaVuSans-54\"/>\n      </g>\n     </g>\n    </g>\n    <g id=\"ytick_5\">\n     <g id=\"line2d_11\">\n      <g>\n       <use style=\"stroke:#000000;stroke-width:0.8;\" x=\"43.78125\" xlink:href=\"#m1af7749095\" y=\"87.550125\"/>\n      </g>\n     </g>\n     <g id=\"text_12\">\n      <!-- 0.8 -->\n      <g transform=\"translate(20.878125 91.349344)scale(0.1 -0.1)\">\n       <use xlink:href=\"#DejaVuSans-48\"/>\n       <use x=\"63.623047\" xlink:href=\"#DejaVuSans-46\"/>\n       <use x=\"95.410156\" xlink:href=\"#DejaVuSans-56\"/>\n      </g>\n     </g>\n    </g>\n    <g id=\"ytick_6\">\n     <g id=\"line2d_12\">\n      <g>\n       <use style=\"stroke:#000000;stroke-width:0.8;\" x=\"43.78125\" xlink:href=\"#m1af7749095\" y=\"22.318125\"/>\n      </g>\n     </g>\n     <g id=\"text_13\">\n      <!-- 1.0 -->\n      <g transform=\"translate(20.878125 26.117344)scale(0.1 -0.1)\">\n       <use xlink:href=\"#DejaVuSans-49\"/>\n       <use x=\"63.623047\" xlink:href=\"#DejaVuSans-46\"/>\n       <use x=\"95.410156\" xlink:href=\"#DejaVuSans-48\"/>\n      </g>\n     </g>\n    </g>\n    <g id=\"text_14\">\n     <!-- $s_y$ -->\n     <g transform=\"translate(13.778125 190.248125)rotate(-90)scale(0.1 -0.1)\">\n      <defs>\n       <path d=\"M 24.8125 -5.078125 \nQ 18.5625 -15.578125 14.625 -18.1875 \nQ 10.6875 -20.796875 4.59375 -20.796875 \nL -2.484375 -20.796875 \nL -0.984375 -13.28125 \nL 4.203125 -13.28125 \nQ 7.953125 -13.28125 10.59375 -11.234375 \nQ 13.234375 -9.1875 16.5 -3.21875 \nL 19.28125 2 \nL 7.171875 54.6875 \nL 16.703125 54.6875 \nL 25.78125 12.796875 \nL 50.875 54.6875 \nL 60.296875 54.6875 \nz\n\" id=\"DejaVuSans-Oblique-121\"/>\n      </defs>\n      <use xlink:href=\"#DejaVuSans-Oblique-115\"/>\n      <use transform=\"translate(52.099609 -16.40625)scale(0.7)\" xlink:href=\"#DejaVuSans-Oblique-121\"/>\n     </g>\n    </g>\n   </g>\n   <g id=\"patch_3\">\n    <path d=\"M 43.78125 348.478125 \nL 43.78125 22.318125 \n\" style=\"fill:none;stroke:#000000;stroke-linecap:square;stroke-linejoin:miter;stroke-width:0.8;\"/>\n   </g>\n   <g id=\"patch_4\">\n    <path d=\"M 369.94125 348.478125 \nL 369.94125 22.318125 \n\" style=\"fill:none;stroke:#000000;stroke-linecap:square;stroke-linejoin:miter;stroke-width:0.8;\"/>\n   </g>\n   <g id=\"patch_5\">\n    <path d=\"M 43.78125 348.478125 \nL 369.94125 348.478125 \n\" style=\"fill:none;stroke:#000000;stroke-linecap:square;stroke-linejoin:miter;stroke-width:0.8;\"/>\n   </g>\n   <g id=\"patch_6\">\n    <path d=\"M 43.78125 22.318125 \nL 369.94125 22.318125 \n\" style=\"fill:none;stroke:#000000;stroke-linecap:square;stroke-linejoin:miter;stroke-width:0.8;\"/>\n   </g>\n   <g id=\"text_15\">\n    <!-- (a) -->\n    <g transform=\"translate(198.5025 16.318125)scale(0.12 -0.12)\">\n     <defs>\n      <path d=\"M 31 75.875 \nQ 24.46875 64.65625 21.28125 53.65625 \nQ 18.109375 42.671875 18.109375 31.390625 \nQ 18.109375 20.125 21.3125 9.0625 \nQ 24.515625 -2 31 -13.1875 \nL 23.1875 -13.1875 \nQ 15.875 -1.703125 12.234375 9.375 \nQ 8.59375 20.453125 8.59375 31.390625 \nQ 8.59375 42.28125 12.203125 53.3125 \nQ 15.828125 64.359375 23.1875 75.875 \nz\n\" id=\"DejaVuSans-40\"/>\n      <path d=\"M 34.28125 27.484375 \nQ 23.390625 27.484375 19.1875 25 \nQ 14.984375 22.515625 14.984375 16.5 \nQ 14.984375 11.71875 18.140625 8.90625 \nQ 21.296875 6.109375 26.703125 6.109375 \nQ 34.1875 6.109375 38.703125 11.40625 \nQ 43.21875 16.703125 43.21875 25.484375 \nL 43.21875 27.484375 \nz\nM 52.203125 31.203125 \nL 52.203125 0 \nL 43.21875 0 \nL 43.21875 8.296875 \nQ 40.140625 3.328125 35.546875 0.953125 \nQ 30.953125 -1.421875 24.3125 -1.421875 \nQ 15.921875 -1.421875 10.953125 3.296875 \nQ 6 8.015625 6 15.921875 \nQ 6 25.140625 12.171875 29.828125 \nQ 18.359375 34.515625 30.609375 34.515625 \nL 43.21875 34.515625 \nL 43.21875 35.40625 \nQ 43.21875 41.609375 39.140625 45 \nQ 35.0625 48.390625 27.6875 48.390625 \nQ 23 48.390625 18.546875 47.265625 \nQ 14.109375 46.140625 10.015625 43.890625 \nL 10.015625 52.203125 \nQ 14.9375 54.109375 19.578125 55.046875 \nQ 24.21875 56 28.609375 56 \nQ 40.484375 56 46.34375 49.84375 \nQ 52.203125 43.703125 52.203125 31.203125 \nz\n\" id=\"DejaVuSans-97\"/>\n      <path d=\"M 8.015625 75.875 \nL 15.828125 75.875 \nQ 23.140625 64.359375 26.78125 53.3125 \nQ 30.421875 42.28125 30.421875 31.390625 \nQ 30.421875 20.453125 26.78125 9.375 \nQ 23.140625 -1.703125 15.828125 -13.1875 \nL 8.015625 -13.1875 \nQ 14.5 -2 17.703125 9.0625 \nQ 20.90625 20.125 20.90625 31.390625 \nQ 20.90625 42.671875 17.703125 53.65625 \nQ 14.5 64.65625 8.015625 75.875 \nz\n\" id=\"DejaVuSans-41\"/>\n     </defs>\n     <use xlink:href=\"#DejaVuSans-40\"/>\n     <use x=\"39.013672\" xlink:href=\"#DejaVuSans-97\"/>\n     <use x=\"100.292969\" xlink:href=\"#DejaVuSans-41\"/>\n    </g>\n   </g>\n  </g>\n  <g id=\"axes_2\">\n   <g id=\"patch_7\">\n    <path clip-path=\"url(#p2709aae9b3)\" d=\"M 392.26125 348.478125 \nL 392.26125 347.204062 \nL 392.26125 23.592187 \nL 392.26125 22.318125 \nL 408.56925 22.318125 \nL 408.56925 23.592187 \nL 408.56925 347.204062 \nL 408.56925 348.478125 \nz\n\" style=\"fill:#ffffff;stroke:#ffffff;stroke-linejoin:miter;stroke-width:0.01;\"/>\n   </g>\n   <image height=\"326\" id=\"imageb73abafcf0\" transform=\"scale(1 -1)translate(0 -326)\" width=\"17\" x=\"392\" xlink:href=\"data:image/png;base64,\niVBORw0KGgoAAAANSUhEUgAAABEAAAFGCAYAAACMkXQBAAAB3ElEQVR4nO2c2w0DMQgEsX2lpYb0X0kuBdh/jKUR4gpYwbA8EiU3PvP7RvKZWYGIiGfMkReJkQ/GEwkDNph0AJExNUyIdAJIh4okLwJ1MdGAHscSIlQXa8zmYWLpHQqsZjyKmEhEqoF9RUwIEYtPRGYjSlysOg12f0xM8hrUeASoiI6cVwOWKLHJsUQXi3Yx4ROP2YhIRGCR67EYkzbb9jTY/TGBZQ6/vAi1RgERjU/qga0UST2wffhdiaTNJo6kGthmcogkr2ECW6sBq13UzeSSiMax1cajpjoex3pK7GHi8UmxElPVyZ857diDSDM5iVQym6g6GiZMiU2OzYtUAwstr3w6ogYEvgQtx4QRCYntqd+WS9LxREKBBUSQGUuAFTHR+MQEFhGxmA3xCQN2iphozEb0jgfsBBZ6g70UiejIQcCazKZhYhERrQzCJw32moimiyEmP0skDXYTWZ4GZIaSxWxLZDYNE6aL8+mIungB6YjW6ELMRowCJhJABAKrGY+aSCiwkgZEIukuPkbiASvxCTUKSoElfII41jTZNF0suqgtPqF2sQUs4thyTCSfRh/gv+yuLgZEFsME+C8tkQ61i5F0ABECLGU2Ih0GLPBaQiIdymxIOpL3+P0BXzONjBAm/0AAAAAASUVORK5CYII=\" y=\"-22\"/>\n   <g id=\"matplotlib.axis_3\"/>\n   <g id=\"matplotlib.axis_4\">\n    <g id=\"ytick_7\">\n     <g id=\"line2d_13\">\n      <defs>\n       <path d=\"M 0 0 \nL 3.5 0 \n\" id=\"mc6af17a2c3\" style=\"stroke:#000000;stroke-width:0.8;\"/>\n      </defs>\n      <g>\n       <use style=\"stroke:#000000;stroke-width:0.8;\" x=\"408.56925\" xlink:href=\"#mc6af17a2c3\" y=\"340.217064\"/>\n      </g>\n     </g>\n     <g id=\"text_16\">\n      <!-- −0.6 -->\n      <g transform=\"translate(415.56925 344.016283)scale(0.1 -0.1)\">\n       <defs>\n        <path d=\"M 10.59375 35.5 \nL 73.1875 35.5 \nL 73.1875 27.203125 \nL 10.59375 27.203125 \nz\n\" id=\"DejaVuSans-8722\"/>\n       </defs>\n       <use xlink:href=\"#DejaVuSans-8722\"/>\n       <use x=\"83.789062\" xlink:href=\"#DejaVuSans-48\"/>\n       <use x=\"147.412109\" xlink:href=\"#DejaVuSans-46\"/>\n       <use x=\"179.199219\" xlink:href=\"#DejaVuSans-54\"/>\n      </g>\n     </g>\n    </g>\n    <g id=\"ytick_8\">\n     <g id=\"line2d_14\">\n      <g>\n       <use style=\"stroke:#000000;stroke-width:0.8;\" x=\"408.56925\" xlink:href=\"#mc6af17a2c3\" y=\"274.077904\"/>\n      </g>\n     </g>\n     <g id=\"text_17\">\n      <!-- −0.4 -->\n      <g transform=\"translate(415.56925 277.877123)scale(0.1 -0.1)\">\n       <use xlink:href=\"#DejaVuSans-8722\"/>\n       <use x=\"83.789062\" xlink:href=\"#DejaVuSans-48\"/>\n       <use x=\"147.412109\" xlink:href=\"#DejaVuSans-46\"/>\n       <use x=\"179.199219\" xlink:href=\"#DejaVuSans-52\"/>\n      </g>\n     </g>\n    </g>\n    <g id=\"ytick_9\">\n     <g id=\"line2d_15\">\n      <g>\n       <use style=\"stroke:#000000;stroke-width:0.8;\" x=\"408.56925\" xlink:href=\"#mc6af17a2c3\" y=\"207.938744\"/>\n      </g>\n     </g>\n     <g id=\"text_18\">\n      <!-- −0.2 -->\n      <g transform=\"translate(415.56925 211.737963)scale(0.1 -0.1)\">\n       <use xlink:href=\"#DejaVuSans-8722\"/>\n       <use x=\"83.789062\" xlink:href=\"#DejaVuSans-48\"/>\n       <use x=\"147.412109\" xlink:href=\"#DejaVuSans-46\"/>\n       <use x=\"179.199219\" xlink:href=\"#DejaVuSans-50\"/>\n      </g>\n     </g>\n    </g>\n    <g id=\"ytick_10\">\n     <g id=\"line2d_16\">\n      <g>\n       <use style=\"stroke:#000000;stroke-width:0.8;\" x=\"408.56925\" xlink:href=\"#mc6af17a2c3\" y=\"141.799584\"/>\n      </g>\n     </g>\n     <g id=\"text_19\">\n      <!-- 0.0 -->\n      <g transform=\"translate(415.56925 145.598803)scale(0.1 -0.1)\">\n       <use xlink:href=\"#DejaVuSans-48\"/>\n       <use x=\"63.623047\" xlink:href=\"#DejaVuSans-46\"/>\n       <use x=\"95.410156\" xlink:href=\"#DejaVuSans-48\"/>\n      </g>\n     </g>\n    </g>\n    <g id=\"ytick_11\">\n     <g id=\"line2d_17\">\n      <g>\n       <use style=\"stroke:#000000;stroke-width:0.8;\" x=\"408.56925\" xlink:href=\"#mc6af17a2c3\" y=\"75.660424\"/>\n      </g>\n     </g>\n     <g id=\"text_20\">\n      <!-- 0.2 -->\n      <g transform=\"translate(415.56925 79.459642)scale(0.1 -0.1)\">\n       <use xlink:href=\"#DejaVuSans-48\"/>\n       <use x=\"63.623047\" xlink:href=\"#DejaVuSans-46\"/>\n       <use x=\"95.410156\" xlink:href=\"#DejaVuSans-50\"/>\n      </g>\n     </g>\n    </g>\n   </g>\n   <g id=\"patch_8\">\n    <path d=\"M 392.26125 348.478125 \nL 392.26125 347.204062 \nL 392.26125 23.592187 \nL 392.26125 22.318125 \nL 408.56925 22.318125 \nL 408.56925 23.592187 \nL 408.56925 347.204062 \nL 408.56925 348.478125 \nz\n\" style=\"fill:none;stroke:#000000;stroke-linejoin:miter;stroke-width:0.8;\"/>\n   </g>\n  </g>\n </g>\n <defs>\n  <clipPath id=\"p156fd45140\">\n   <rect height=\"326.16\" width=\"326.16\" x=\"43.78125\" y=\"22.318125\"/>\n  </clipPath>\n  <clipPath id=\"p2709aae9b3\">\n   <rect height=\"326.16\" width=\"16.308\" x=\"392.26125\" y=\"22.318125\"/>\n  </clipPath>\n </defs>\n</svg>\n",
      "text/plain": [
       "<Figure size 576x432 with 2 Axes>"
      ]
     },
     "metadata": {
      "needs_background": "light"
     },
     "output_type": "display_data"
    }
   ],
   "source": [
    "##Visualization\n",
    "y_mat = y.reshape(n,n)\n",
    "fig, ax = plt.subplots()\n",
    "im = ax.imshow(y_mat , extent=[0, 1, 0, 1], origin=\"lower\",\n",
    "               vmax=y_mat .max(), vmin=y_mat .min())\n",
    "plt.xlabel('$s_x$')\n",
    "plt.ylabel('$s_y$')\n",
    "plt.title('(a)')\n",
    "plt.colorbar(im)\n",
    "#plt.show()\n",
    "plt.savefig(\"nonstat_fun_2d.pdf\")"
   ]
  },
  {
   "cell_type": "code",
   "execution_count": 5,
   "metadata": {},
   "outputs": [],
   "source": [
    "num_basis = [10**2,19**2,37**2]\n",
    "knots_1d = [np.linspace(0,1,int(np.sqrt(i))) for i in num_basis]\n",
    "##Wendland kernel\n",
    "K = 0\n",
    "phi = np.zeros((N, sum(num_basis)))\n",
    "for res in range(len(num_basis)):\n",
    "    theta = 1/np.sqrt(num_basis[res])*2.5\n",
    "    knots_s1, knots_s2 = np.meshgrid(knots_1d[res],knots_1d[res])\n",
    "    knots = np.column_stack((knots_s1.flatten(),knots_s2.flatten()))\n",
    "    for i in range(num_basis[res]):\n",
    "        d = np.linalg.norm(s-knots[i,:],axis=1)/theta\n",
    "        for j in range(len(d)):\n",
    "            if d[j] >= 0 and d[j] <= 1:\n",
    "                phi[j,i + K] = (1-d[j])**6 * (35 * d[j]**2 + 18 * d[j] + 3)/3\n",
    "            else:\n",
    "                phi[j,i + K] = 0\n",
    "    K = K + num_basis[res]"
   ]
  },
  {
   "cell_type": "code",
   "execution_count": 8,
   "metadata": {},
   "outputs": [],
   "source": [
    "tf.keras.metrics.MeanAbsolutePercentageError(\n",
    "    name=\"mean_absolute_percentage_error\", dtype=None\n",
    ")\n",
    "\n",
    "def deep_model(model, X_train, y_train, X_valid, y_valid, data_type):\n",
    "    '''\n",
    "    Function to train a multi-class model. The number of epochs and \n",
    "    batch_size are set by the constants at the top of the\n",
    "    notebook. \n",
    "    \n",
    "    Parameters:\n",
    "        model : model with the chosen architecture\n",
    "        X_train : training features\n",
    "        y_train : training target\n",
    "        X_valid : validation features\n",
    "        Y_valid : validation target\n",
    "    Output:\n",
    "        model training history\n",
    "    '''\n",
    "    #sgd = optimizers.gradient_descent_v2.SGD(learning_rate=0.001, decay=1e-6, momentum=0.9, nesterov=True)\n",
    "    if data_type == 'continuous':\n",
    "        model.compile(optimizer='adam'\n",
    "                      , loss='mse'\n",
    "                      , metrics=[tf.keras.metrics.RootMeanSquaredError(),tf.keras.metrics.MeanAbsolutePercentageError()])\n",
    "    if data_type == 'discrete':\n",
    "        model.compile(loss='binary_crossentropy', optimizer='adam', metrics=['accuracy'])\n",
    "    \n",
    "    history = model.fit(X_train\n",
    "                       , y_train\n",
    "                       , epochs=NB_START_EPOCHS\n",
    "                       , batch_size=BATCH_SIZE\n",
    "                       , validation_data=(X_valid, y_valid)\n",
    "                       , verbose=0)\n",
    "    return history\n",
    "\n",
    "def test_model(model, X_train, y_train, X_test, y_test, epoch_stop):\n",
    "    '''\n",
    "    Function to test the model on new data after training it\n",
    "    on the full training data with the optimal number of epochs.\n",
    "    \n",
    "    Parameters:\n",
    "        model : trained model\n",
    "        X_train : training features\n",
    "        y_train : training target\n",
    "        X_test : test features\n",
    "        y_test : test target\n",
    "        epochs : optimal number of epochs\n",
    "    Output:\n",
    "        test accuracy and test loss\n",
    "    '''\n",
    "    model.fit(X_train\n",
    "              , y_train\n",
    "              , epochs=epoch_stop\n",
    "              , batch_size=BATCH_SIZE\n",
    "              , verbose=0)\n",
    "    results_test = model.evaluate(X_test, y_test, verbose=0)\n",
    "    results_train = model.evaluate(X_train, y_train, verbose=0)\n",
    "    return results_test, results_train\n",
    "    \n",
    "def optimal_epoch(model_hist):\n",
    "    '''\n",
    "    Function to return the epoch number where the validation loss is\n",
    "    at its minimum\n",
    "    \n",
    "    Parameters:\n",
    "        model_hist : training history of model\n",
    "    Output:\n",
    "        epoch number with minimum validation loss\n",
    "    '''\n",
    "    min_epoch = np.argmin(model_hist.history['val_loss']) + 1\n",
    "    return min_epoch\n",
    "\n"
   ]
  },
  {
   "cell_type": "code",
   "execution_count": 8,
   "metadata": {},
   "outputs": [],
   "source": [
    "# Baseline DNN only with coordinates\n",
    "# Neural network\n",
    "model_base = Sequential()\n",
    "model_base.add(Dense(100, input_dim=2,  kernel_initializer='he_uniform', activation='relu'))\n",
    "#model_base.add(Dropout(rate=0.5))\n",
    "model_base.add(BatchNormalization())\n",
    "model_base.add(Dense(100, activation='relu'))\n",
    "#model_base.add(Dropout(rate=0.5))\n",
    "model_base.add(Dense(100, activation='relu'))\n",
    "model_base.add(BatchNormalization())\n",
    "model_base.add(Dense(1, activation='linear'))"
   ]
  },
  {
   "cell_type": "code",
   "execution_count": 12,
   "metadata": {},
   "outputs": [],
   "source": [
    "# DeepKriging model for continuous data with 4 hidden layers\n",
    "model_4 = Sequential()\n",
    "model_4.add(Dense(100, input_dim = K,  kernel_initializer='he_uniform', activation='relu'))\n",
    "#model_base.add(Dropout(rate=0.5))\n",
    "model_base.add(BatchNormalization())\n",
    "model_4.add(Dense(100, activation='relu'))\n",
    "#model_base.add(Dropout(rate=0.5))\n",
    "model_base.add(BatchNormalization())\n",
    "model_4.add(Dense(100, activation='relu'))\n",
    "#model_base.add(Dropout(rate=0.5))\n",
    "model_base.add(BatchNormalization())\n",
    "model_4.add(Dense(100, activation='relu'))\n",
    "#model_base.add(Dropout(rate=0.5))\n",
    "model_base.add(BatchNormalization())\n",
    "model_4.add(Dense(1, activation='linear'))"
   ]
  },
  {
   "cell_type": "code",
   "execution_count": 15,
   "metadata": {},
   "outputs": [],
   "source": [
    "from sklearn.model_selection import KFold\n",
    "NB_START_EPOCHS = 200  # Number of epochs we usually start to train with\n",
    "BATCH_SIZE = 64  # Size of the batches used in the mini-batch gradient descent"
   ]
  },
  {
   "cell_type": "code",
   "execution_count": 16,
   "metadata": {},
   "outputs": [],
   "source": [
    "def mse(y_pred,y_true):\n",
    "    mse = np.mean((y_pred-y_true)**2)\n",
    "    return mse\n",
    "\n",
    "def mae(y_pred,y_true):\n",
    "    mae = np.mean(np.absolute(y_pred-y_true))\n",
    "    return mae\n",
    "\n",
    "def rmse(y_true,y_pred):\n",
    "    rmse = np.sqrt(np.mean((y_true-y_pred)**2))\n",
    "    return rmse\n",
    "\n",
    "def mape(y_true,y_pred):\n",
    "    mape = np.mean(np.absolute(y_true-y_pred)/np.absolute(y_true))\n",
    "    return mape"
   ]
  },
  {
   "cell_type": "code",
   "execution_count": 18,
   "metadata": {
    "scrolled": false
   },
   "outputs": [
    {
     "name": "stdout",
     "output_type": "stream",
     "text": [
      "------------------------------------------------------------------------\n",
      "Training for fold 1 ...\n",
      "The performance of DeepKriging: RMSE = 0.015182863920927048, MAPE = 14.129841804504395\n",
      "The performance of classical DNN: RMSE = 0.09009981155395508, MAPE = 107.45533752441406\n"
     ]
    },
    {
     "data": {
      "application/vnd.jupyter.widget-view+json": {
       "model_id": "1a15bc0a591a46fb930d8e9a8217494e",
       "version_major": 2,
       "version_minor": 0
      },
      "text/plain": [
       "HBox(children=(VBox(children=(IntProgress(value=0, max=1000), HTML(value=''))), Box(children=(HTML(value=''),)…"
      ]
     },
     "metadata": {},
     "output_type": "display_data"
    },
    {
     "name": "stdout",
     "output_type": "stream",
     "text": [
      "The performance of Kriging: RMSE = 0.0022590229688881037, MAPE = 0.0015204942694912202\n",
      "------------------------------------------------------------------------\n",
      "Training for fold 2 ...\n",
      "The performance of DeepKriging: RMSE = 0.012868518009781837, MAPE = 19.08913230895996\n",
      "The performance of classical DNN: RMSE = 0.08499427884817123, MAPE = 97.36209106445312\n"
     ]
    },
    {
     "data": {
      "application/vnd.jupyter.widget-view+json": {
       "model_id": "e3f9969ce0db4644b71e32f0e9d9723f",
       "version_major": 2,
       "version_minor": 0
      },
      "text/plain": [
       "HBox(children=(VBox(children=(IntProgress(value=0, max=1000), HTML(value=''))), Box(children=(HTML(value=''),)…"
      ]
     },
     "metadata": {},
     "output_type": "display_data"
    },
    {
     "name": "stdout",
     "output_type": "stream",
     "text": [
      "The performance of Kriging: RMSE = 0.000937649076766668, MAPE = 0.0005633517272098929\n",
      "------------------------------------------------------------------------\n",
      "Training for fold 3 ...\n",
      "The performance of DeepKriging: RMSE = 0.01025392860174179, MAPE = 15.85243034362793\n",
      "The performance of classical DNN: RMSE = 0.07492352277040482, MAPE = 110.93215942382812\n"
     ]
    },
    {
     "data": {
      "application/vnd.jupyter.widget-view+json": {
       "model_id": "591a12a7b2aa4f85a1426121e29a938f",
       "version_major": 2,
       "version_minor": 0
      },
      "text/plain": [
       "HBox(children=(VBox(children=(IntProgress(value=0, max=1000), HTML(value=''))), Box(children=(HTML(value=''),)…"
      ]
     },
     "metadata": {},
     "output_type": "display_data"
    },
    {
     "name": "stdout",
     "output_type": "stream",
     "text": [
      "The performance of Kriging: RMSE = 0.00015908845657608897, MAPE = 0.00034006203459354827\n",
      "------------------------------------------------------------------------\n",
      "Training for fold 4 ...\n",
      "The performance of DeepKriging: RMSE = 0.011627016589045525, MAPE = 30.39805793762207\n",
      "The performance of classical DNN: RMSE = 0.12405329197645187, MAPE = 87.06151580810547\n"
     ]
    },
    {
     "data": {
      "application/vnd.jupyter.widget-view+json": {
       "model_id": "39a99bd66d2942e5a1cfa245a1a45d40",
       "version_major": 2,
       "version_minor": 0
      },
      "text/plain": [
       "HBox(children=(VBox(children=(IntProgress(value=0, max=1000), HTML(value=''))), Box(children=(HTML(value=''),)…"
      ]
     },
     "metadata": {},
     "output_type": "display_data"
    },
    {
     "name": "stdout",
     "output_type": "stream",
     "text": [
      "The performance of Kriging: RMSE = 0.0004006259335018204, MAPE = 0.0005343480828716564\n",
      "------------------------------------------------------------------------\n",
      "Training for fold 5 ...\n",
      "The performance of DeepKriging: RMSE = 0.009795633144676685, MAPE = 6.799107074737549\n",
      "The performance of classical DNN: RMSE = 0.0845683366060257, MAPE = 86.14839935302734\n"
     ]
    },
    {
     "data": {
      "application/vnd.jupyter.widget-view+json": {
       "model_id": "e00552f1c2c14ee7bc7d9c65264a679d",
       "version_major": 2,
       "version_minor": 0
      },
      "text/plain": [
       "HBox(children=(VBox(children=(IntProgress(value=0, max=1000), HTML(value=''))), Box(children=(HTML(value=''),)…"
      ]
     },
     "metadata": {},
     "output_type": "display_data"
    },
    {
     "name": "stdout",
     "output_type": "stream",
     "text": [
      "The performance of Kriging: RMSE = 0.028667754200233826, MAPE = 0.0044966138626474795\n",
      "------------------------------------------------------------------------\n",
      "Training for fold 6 ...\n",
      "The performance of DeepKriging: RMSE = 0.010346001945436, MAPE = 14.061626434326172\n",
      "The performance of classical DNN: RMSE = 0.09107815474271774, MAPE = 103.12870025634766\n"
     ]
    },
    {
     "data": {
      "application/vnd.jupyter.widget-view+json": {
       "model_id": "f030a8a225df44788c0942d3fc43cfbe",
       "version_major": 2,
       "version_minor": 0
      },
      "text/plain": [
       "HBox(children=(VBox(children=(IntProgress(value=0, max=1000), HTML(value=''))), Box(children=(HTML(value=''),)…"
      ]
     },
     "metadata": {},
     "output_type": "display_data"
    },
    {
     "name": "stdout",
     "output_type": "stream",
     "text": [
      "The performance of Kriging: RMSE = 0.0005952956117963748, MAPE = 0.0007265186330709909\n",
      "------------------------------------------------------------------------\n",
      "Training for fold 7 ...\n",
      "The performance of DeepKriging: RMSE = 0.011311724781990051, MAPE = 14.147786140441895\n",
      "The performance of classical DNN: RMSE = 0.0860820859670639, MAPE = 92.70978546142578\n"
     ]
    },
    {
     "data": {
      "application/vnd.jupyter.widget-view+json": {
       "model_id": "b19b65ec9e914ec184f118f0f0e4c241",
       "version_major": 2,
       "version_minor": 0
      },
      "text/plain": [
       "HBox(children=(VBox(children=(IntProgress(value=0, max=1000), HTML(value=''))), Box(children=(HTML(value=''),)…"
      ]
     },
     "metadata": {},
     "output_type": "display_data"
    },
    {
     "name": "stdout",
     "output_type": "stream",
     "text": [
      "The performance of Kriging: RMSE = 0.007208232217143831, MAPE = 0.004092703005225942\n",
      "------------------------------------------------------------------------\n",
      "Training for fold 8 ...\n",
      "The performance of DeepKriging: RMSE = 0.009920735843479633, MAPE = 14.287598609924316\n",
      "The performance of classical DNN: RMSE = 0.0837610512971878, MAPE = 108.94330596923828\n"
     ]
    },
    {
     "data": {
      "application/vnd.jupyter.widget-view+json": {
       "model_id": "1964f33ddb804c938b3691b8cb2d441e",
       "version_major": 2,
       "version_minor": 0
      },
      "text/plain": [
       "HBox(children=(VBox(children=(IntProgress(value=0, max=1000), HTML(value=''))), Box(children=(HTML(value=''),)…"
      ]
     },
     "metadata": {},
     "output_type": "display_data"
    },
    {
     "name": "stdout",
     "output_type": "stream",
     "text": [
      "The performance of Kriging: RMSE = 0.00030428814725347764, MAPE = 0.0002372360942038517\n",
      "------------------------------------------------------------------------\n",
      "Training for fold 9 ...\n",
      "The performance of DeepKriging: RMSE = 0.008822117000818253, MAPE = 12.358732223510742\n",
      "The performance of classical DNN: RMSE = 0.08469869941473007, MAPE = 84.0858383178711\n"
     ]
    },
    {
     "data": {
      "application/vnd.jupyter.widget-view+json": {
       "model_id": "05c8253e32764b7fb7e7a2fb87d72673",
       "version_major": 2,
       "version_minor": 0
      },
      "text/plain": [
       "HBox(children=(VBox(children=(IntProgress(value=0, max=1000), HTML(value=''))), Box(children=(HTML(value=''),)…"
      ]
     },
     "metadata": {},
     "output_type": "display_data"
    },
    {
     "name": "stdout",
     "output_type": "stream",
     "text": [
      "The performance of Kriging: RMSE = 0.0019207453483182885, MAPE = 0.001159860388648323\n",
      "------------------------------------------------------------------------\n",
      "Training for fold 10 ...\n",
      "The performance of DeepKriging: RMSE = 0.005267356988042593, MAPE = 6.057576656341553\n",
      "The performance of classical DNN: RMSE = 0.07628795504570007, MAPE = 92.60266876220703\n"
     ]
    },
    {
     "data": {
      "application/vnd.jupyter.widget-view+json": {
       "model_id": "5aac1ee34c31410993ef485b71e8c364",
       "version_major": 2,
       "version_minor": 0
      },
      "text/plain": [
       "HBox(children=(VBox(children=(IntProgress(value=0, max=1000), HTML(value=''))), Box(children=(HTML(value=''),)…"
      ]
     },
     "metadata": {},
     "output_type": "display_data"
    },
    {
     "name": "stdout",
     "output_type": "stream",
     "text": [
      "The performance of Kriging: RMSE = 0.0018706145322306092, MAPE = 0.0014040905986145407\n"
     ]
    }
   ],
   "source": [
    "num_folds = 10\n",
    "kfold = KFold(n_splits=num_folds, shuffle=True, random_state = 123)\n",
    "fold_no = 1\n",
    "inputs = phi\n",
    "inputs_base = s\n",
    "targets = y\n",
    "rmse_per_fold = []\n",
    "rmse_per_fold_base = []\n",
    "rmse_per_fold_gp = []\n",
    "mape_per_fold = []\n",
    "mape_per_fold_base = []\n",
    "mape_per_fold_gp = []\n",
    "rmse_per_fold_train = []\n",
    "rmse_per_fold_base_train = []\n",
    "rmse_per_fold_gp_train = []\n",
    "mape_per_fold_train = []\n",
    "mape_per_fold_base_train = []\n",
    "mape_per_fold_gp_train = []\n",
    "for train_idx, test_idx in kfold.split(inputs, targets):\n",
    "    print('------------------------------------------------------------------------')\n",
    "    print(f'Training for fold {fold_no} ...')\n",
    "    history = deep_model(model, inputs[train_idx,:], targets[train_idx], inputs[test_idx,:], targets[test_idx],'continuous')\n",
    "    history_base = deep_model(model_base, inputs_base[train_idx], targets[train_idx]\n",
    "                              , inputs_base[test_idx], targets[test_idx],'continuous')\n",
    "    model_optim = optimal_epoch(history)\n",
    "    model_optim_base = optimal_epoch(history_base)\n",
    "    result = test_model(model, inputs[train_idx,:], targets[train_idx], inputs[test_idx,:]\n",
    "                        , targets[test_idx], model_optim)\n",
    "    result_base = test_model(model_base, inputs_base[train_idx,:], targets[train_idx], inputs_base[test_idx,:]\n",
    "                             , targets[test_idx], model_optim_base)\n",
    "    scores = result\n",
    "    scores_base = result_base\n",
    "    print(f'The performance of DeepKriging: RMSE = {scores[0][1]}, MAPE = {scores[0][2]}')\n",
    "    print(f'The performance of classical DNN: RMSE = {scores_base[0][1]}, MAPE = {scores_base[0][2]}')\n",
    "    #ker = GPy.kern.Exponential(2,1,1)\n",
    "    #ker = GPy.kern.Matern32(2,1,1)\n",
    "    ker = GPy.kern.RBF(2,1,1)\n",
    "    # create simple GP model\n",
    "    m = GPy.models.GPRegression(s[train_idx],targets[train_idx,None],ker)\n",
    "    # optimize and plot\n",
    "    m.optimize(messages=True)\n",
    "    z_gp_test,gp_var=m.predict(s[test_idx])\n",
    "    z_gp_train,gp_train=m.predict(s[train_idx])\n",
    "    scores_gp = [rmse(z_gp_test[:,0],targets[test_idx]),mape(z_gp_test[:,0],targets[test_idx])]\n",
    "    scores_gp_train = [rmse(z_gp_train[:,0],targets[train_idx]),mape(z_gp_train[:,0],targets[train_idx])]\n",
    "    print(f'The performance of Kriging: RMSE = {scores_gp[0]}, MAPE = {scores_gp[1]}')\n",
    "    fold_no = fold_no + 1\n",
    "    \n",
    "    # Results for testing dataset\n",
    "    rmse_per_fold.append(scores[0][1])\n",
    "    rmse_per_fold_base.append(scores_base[0][1])\n",
    "    rmse_per_fold_gp.append(scores_gp[0])\n",
    "    mape_per_fold.append(scores[0][2])\n",
    "    mape_per_fold_base.append(scores_base[0][2])\n",
    "    mape_per_fold_gp.append(scores_gp[1])  \n",
    "    \n",
    "    # Results for training dataset\n",
    "    rmse_per_fold_train.append(scores[1][1])\n",
    "    rmse_per_fold_base_train.append(scores_base[1][1])\n",
    "    rmse_per_fold_gp_train.append(scores_gp_train[0])\n",
    "    mape_per_fold_train.append(scores[1][2])\n",
    "    mape_per_fold_base_train.append(scores_base[1][2])\n",
    "    mape_per_fold_gp_train.append(scores_gp_train[1]) \n",
    "    \n",
    "    "
   ]
  },
  {
   "cell_type": "code",
   "execution_count": null,
   "metadata": {},
   "outputs": [],
   "source": [
    "import matplotlib as mpl\n",
    "mpl.style.use(\"seaborn\")\n",
    "data= [rmse_per_fold,rmse_per_fold_base,rmse_per_fold_gp]\n",
    "fig = plt.figure(figsize =(10, 7)) \n",
    "ax = fig.add_subplot(111) \n",
    "  \n",
    "# Creating axes instance \n",
    "bp = ax.boxplot(data, patch_artist = True, \n",
    "                notch ='True', vert = 0) \n",
    "  \n",
    "colors = ['#0000FF', '#00FF00',  \n",
    "          '#FFFF00'] \n",
    "  \n",
    "for patch, color in zip(bp['boxes'], colors): \n",
    "    patch.set_facecolor(color) \n",
    "  \n",
    "# changing color and linewidth of \n",
    "# whiskers \n",
    "for whisker in bp['whiskers']: \n",
    "    whisker.set(color ='black', \n",
    "                linewidth = 1.5, \n",
    "                linestyle =\":\") \n",
    "  \n",
    "# changing color and linewidth of \n",
    "# caps \n",
    "for cap in bp['caps']: \n",
    "    cap.set(color ='#8B008B', \n",
    "            linewidth = 2) \n",
    "  \n",
    "# changing color and linewidth of \n",
    "# medians \n",
    "for median in bp['medians']: \n",
    "    median.set(color ='red', \n",
    "               linewidth = 3) \n",
    "  \n",
    "# changing style of fliers \n",
    "for flier in bp['fliers']: \n",
    "    flier.set(marker ='D', \n",
    "              color ='#e7298a', \n",
    "              alpha = 0.5) \n",
    "      \n",
    "# x-axis labels \n",
    "ax.set_yticklabels(['DeepKriging', 'Baseline DNN',  \n",
    "                    'Kriging']) \n",
    "  \n",
    "# Adding title  \n",
    "plt.title(\"(b)\") \n",
    "plt.xlabel('Root Mean Squared Error based on 10-fold cross validation')\n",
    "#plt.xlim((0,0.02)) \n",
    "# Removing top axes and right axes \n",
    "# ticks \n",
    "ax.get_xaxis().tick_bottom() \n",
    "ax.get_yaxis().tick_left() \n",
    "      \n",
    "# show plot \n",
    "#plt.show(bp) \n",
    "plt.savefig(\"boxplot_new.pdf\")"
   ]
  },
  {
   "cell_type": "code",
   "execution_count": 20,
   "metadata": {
    "scrolled": true
   },
   "outputs": [
    {
     "name": "stdout",
     "output_type": "stream",
     "text": [
      "0.010539589682593942\n",
      "0.002460980954048004\n",
      "0.08805471882224084\n",
      "0.012943016491387628\n",
      "0.004432331649270907\n",
      "0.008313523407641348\n",
      "14.718188953399657\n",
      "6.4095478315893715\n",
      "97.0429801940918\n",
      "9.51201371752292\n",
      "0.0015075278696577445\n",
      "0.0014551510647627934\n"
     ]
    }
   ],
   "source": [
    "# Print results for the testing set\n",
    "print(np.mean(rmse_per_fold))\n",
    "print(np.std(rmse_per_fold))\n",
    "print(np.mean(rmse_per_fold_base))\n",
    "print(np.std(rmse_per_fold_base))\n",
    "print(np.mean(rmse_per_fold_gp))\n",
    "print(np.std(rmse_per_fold_gp))\n",
    "print(np.mean(mape_per_fold))\n",
    "print(np.std(mape_per_fold))\n",
    "print(np.mean(mape_per_fold_base))\n",
    "print(np.std(mape_per_fold_base))\n",
    "print(np.mean(mape_per_fold_gp))\n",
    "print(np.std(mape_per_fold_gp))"
   ]
  },
  {
   "cell_type": "code",
   "execution_count": 21,
   "metadata": {},
   "outputs": [
    {
     "name": "stdout",
     "output_type": "stream",
     "text": [
      "0.010675040073692799\n",
      "0.002311269814538169\n",
      "0.08782033324241638\n",
      "0.0073355055779713\n",
      "3.2349213394679624e-05\n",
      "4.065972743346282e-06\n",
      "14.263153171539306\n",
      "3.6769348184127657\n",
      "94.93298263549805\n",
      "5.737350444260662\n",
      "5.428707775092566e-05\n",
      "1.3134156288456762e-05\n"
     ]
    }
   ],
   "source": [
    "# Print results for the training set\n",
    "\n",
    "print(np.mean(rmse_per_fold_train))\n",
    "print(np.std(rmse_per_fold_train))\n",
    "print(np.mean(rmse_per_fold_base_train))\n",
    "print(np.std(rmse_per_fold_base_train))\n",
    "print(np.mean(rmse_per_fold_gp_train))\n",
    "print(np.std(rmse_per_fold_gp_train))\n",
    "print(np.mean(mape_per_fold_train))\n",
    "print(np.std(mape_per_fold_train))\n",
    "print(np.mean(mape_per_fold_base_train))\n",
    "print(np.std(mape_per_fold_base_train))\n",
    "print(np.mean(mape_per_fold_gp_train))\n",
    "print(np.std(mape_per_fold_gp_train))"
   ]
  },
  {
   "cell_type": "code",
   "execution_count": null,
   "metadata": {},
   "outputs": [],
   "source": []
  }
 ],
 "metadata": {
  "kernelspec": {
   "display_name": "Python 3",
   "language": "python",
   "name": "python3"
  },
  "language_info": {
   "codemirror_mode": {
    "name": "ipython",
    "version": 3
   },
   "file_extension": ".py",
   "mimetype": "text/x-python",
   "name": "python",
   "nbconvert_exporter": "python",
   "pygments_lexer": "ipython3",
   "version": "3.8.8"
  }
 },
 "nbformat": 4,
 "nbformat_minor": 2
}
